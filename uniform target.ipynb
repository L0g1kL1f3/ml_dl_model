{
 "cells": [
  {
   "cell_type": "code",
   "execution_count": 2,
   "metadata": {},
   "outputs": [],
   "source": [
    "import numpy as np\n",
    "import pandas as pd\n",
    "import utils as ut\n",
    "import seaborn as sns\n",
    "import matplotlib as plt\n",
    "import concurrent.futures as cf\n",
    "from sklearn.feature_selection import SelectKBest\n",
    "from sklearn.compose import ColumnTransformer\n",
    "from sklearn.metrics import confusion_matrix\n",
    "from sklearn.pipeline import Pipeline\n",
    "from sklearn.impute import SimpleImputer\n",
    "from sklearn.preprocessing import OrdinalEncoder\n",
    "from sklearn.preprocessing import StandardScaler\n",
    "from sklearn.impute import KNNImputer\n",
    "from sklearn.metrics import recall_score\n",
    "from sklearn.metrics import f1_score\n",
    "from sklearn.metrics import precision_score\n",
    "from sklearn.metrics import recall_score\n",
    "from sklearn.metrics import  accuracy_score\n",
    "from sklearn.naive_bayes import GaussianNB\n",
    "from sklearn.linear_model import LogisticRegression\n",
    "from sklearn.tree import DecisionTreeClassifier\n",
    "from sklearn.ensemble import RandomForestClassifier\n",
    "from sklearn.svm import SVC\n",
    "from sklearn.neighbors import KNeighborsClassifier\n",
    "from sklearn.model_selection import GridSearchCV\n",
    "from sklearn.model_selection import cross_val_score\n",
    "from sklearn.model_selection import train_test_split\n",
    "from tensorflow import keras\n",
    "from tensorflow.keras import layers\n",
    "\n"
   ]
  },
  {
   "cell_type": "code",
   "execution_count": 36,
   "metadata": {},
   "outputs": [],
   "source": [
    "# se collem os datos\n",
    "X_1=pd.read_csv(\"C:/Users/Joni/Desktop/portfolio/Data analisys/the bridge data sci/american express/scripts/month_1/train_month1.csv\")\n",
    "X_2=pd.read_csv(\"C:/Users/Joni/Desktop/portfolio/Data analisys/the bridge data sci/american express/scripts/month_2/train_month2.csv\")\n",
    "X_3=pd.read_csv(\"C:/Users/Joni/Desktop/portfolio/Data analisys/the bridge data sci/american express/scripts/month_3/train_month3.csv\")\n",
    "X_4=pd.read_csv(\"C:/Users/Joni/Desktop/portfolio/Data analisys/the bridge data sci/american express/scripts/month_4/train_month4.csv\")\n",
    "X_5=pd.read_csv(\"C:/Users/Joni/Desktop/portfolio/Data analisys/the bridge data sci/american express/scripts/month_5/train_month5.csv\")\n",
    "X_6=pd.read_csv(\"C:/Users/Joni/Desktop/portfolio/Data analisys/the bridge data sci/american express/scripts/month_6/train_month6.csv\")\n",
    "X_7=pd.read_csv(\"C:/Users/Joni/Desktop/portfolio/Data analisys/the bridge data sci/american express/scripts/month_7/train_month7.csv\")\n",
    "X_13=pd.read_csv(\"C:/Users/Joni/Desktop/portfolio/Data analisys/the bridge data sci/american express/scripts/month_13/train_month13_1.csv\")\n",
    "y=pd.read_csv(\"C:/Users/Joni/Desktop/portfolio/Data analisys/the bridge data sci/american express/scripts/month_1/train_labels.csv\")"
   ]
  },
  {
   "cell_type": "code",
   "execution_count": 4,
   "metadata": {},
   "outputs": [],
   "source": [
    "# see colle das colunas que tem mais meses por cliente o ultimo mese\n",
    "\n",
    "X_1=X_1.iloc[:,1:]\n",
    "X_2=X_2.iloc[:,1:]\n",
    "X_3=X_3.iloc[:,1:]\n",
    "X_4=X_4.iloc[:,1:]\n",
    "X_5=X_5.iloc[:,1:]\n",
    "X_6=X_6.iloc[:,1:]\n",
    "X_7=X_7.iloc[:,1:]\n",
    "\n",
    "X=pd.concat([X_2,X_3,X_4,X_5,X_6,X_7])\n",
    "\n",
    "\n",
    "X_13=X_13.iloc[:,1:]\n",
    "\n",
    "\n",
    "\n",
    "del X_2,X_3,X_4,X_5,X_6,X_7\n",
    "\n",
    "with cf.ThreadPoolExecutor() as excutor:\n",
    "    X=pd.concat(list(excutor.map(lambda x:ut.get_last(X,x),X[\"customer_ID\"].unique())),axis=1)\n",
    "\n",
    "X=X.T\n",
    "\n",
    "X=pd.concat([X,X_1])\n",
    "del X_1\n",
    "\n",
    "\n"
   ]
  },
  {
   "cell_type": "code",
   "execution_count": 29,
   "metadata": {},
   "outputs": [],
   "source": [
    "# se equilibra o target\n",
    "equi_X,_,equi_y,_=ut.equ_train(X,y,0,1)"
   ]
  },
  {
   "cell_type": "code",
   "execution_count": 31,
   "metadata": {},
   "outputs": [
    {
     "data": {
      "text/plain": [
       "<AxesSubplot: xlabel='target', ylabel='count'>"
      ]
     },
     "execution_count": 31,
     "metadata": {},
     "output_type": "execute_result"
    },
    {
     "data": {
      "image/png": "[encoded data removed]",
      "text/plain": [
       "<Figure size 640x480 with 1 Axes>"
      ]
     },
     "metadata": {},
     "output_type": "display_data"
    }
   ],
   "source": [
    "equi_y=equi_y.groupby(\"target\")[\"target\"].count()\n",
    "equi_y=equi_y.to_frame().rename(columns={\"target\":\"count\"}).reset_index()\n",
    "sns.barplot(x=equi_y[\"target\"],y=equi_y[\"count\"])"
   ]
  },
  {
   "cell_type": "code",
   "execution_count": null,
   "metadata": {},
   "outputs": [],
   "source": [
    "equi_X.to_csv(\"final_train_X.csv\")\n",
    "equi_y.to_csv(\"final_train_y.csv\")\n"
   ]
  }
 ],
 "metadata": {
  "kernelspec": {
   "display_name": "Python 3.9.0 64-bit",
   "language": "python",
   "name": "python3"
  },
  "language_info": {
   "codemirror_mode": {
    "name": "ipython",
    "version": 3
   },
   "file_extension": ".py",
   "mimetype": "text/x-python",
   "name": "python",
   "nbconvert_exporter": "python",
   "pygments_lexer": "ipython3",
   "version": "3.9.0"
  },
  "orig_nbformat": 4,
  "vscode": {
   "interpreter": {
    "hash": "66a65024a80dbc669128121e6b28ee47b9bf545b3d53ac8fdf8b853b16492407"
   }
  }
 },
 "nbformat": 4,
 "nbformat_minor": 2
}
