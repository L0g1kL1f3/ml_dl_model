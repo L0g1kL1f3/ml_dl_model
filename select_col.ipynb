{
 "cells": [
  {
   "cell_type": "code",
   "execution_count": 1,
   "metadata": {},
   "outputs": [],
   "source": [
    "import numpy as np\n",
    "import pandas as pd\n",
    "import seaborn as sns\n",
    "import matplotlib as plt\n",
    "import concurrent.futures as cf\n",
    "import pickle\n",
    "from sklearn.feature_selection import SelectKBest\n",
    "from sklearn.compose import ColumnTransformer\n",
    "from sklearn.metrics import confusion_matrix\n",
    "from sklearn.pipeline import Pipeline\n",
    "from sklearn.impute import SimpleImputer\n",
    "from sklearn.preprocessing import OrdinalEncoder\n",
    "from sklearn.preprocessing import StandardScaler\n",
    "from sklearn.impute import KNNImputer\n",
    "from sklearn.metrics import recall_score\n",
    "from sklearn.metrics import f1_score\n",
    "from sklearn.metrics import precision_score\n",
    "from sklearn.metrics import recall_score\n",
    "from sklearn.metrics import  accuracy_score\n",
    "from sklearn.naive_bayes import GaussianNB\n",
    "from sklearn.linear_model import LogisticRegression\n",
    "from sklearn.tree import DecisionTreeClassifier\n",
    "from sklearn.ensemble import RandomForestClassifier\n",
    "from sklearn.svm import SVC\n",
    "from sklearn.neighbors import KNeighborsClassifier\n",
    "from sklearn.model_selection import GridSearchCV\n",
    "from sklearn.model_selection import cross_val_score\n",
    "from sklearn.model_selection import train_test_split\n",
    "from tensorflow import keras\n",
    "from tensorflow.keras import layers"
   ]
  },
  {
   "cell_type": "code",
   "execution_count": 2,
   "metadata": {},
   "outputs": [],
   "source": [
    "# here I get the data I use and also the 13 month data for one thing later \n",
    "X=pd.read_csv(\"./final_train_X.csv\").iloc[:,3:]\n",
    "y=pd.read_csv(\"./final_train_y.csv\").iloc[:,1:]\n",
    "X_great=pd.read_csv(\"great_test_X.csv\").iloc[:,3:]\n",
    "y_great=pd.read_csv(\"great_test_y.csv\").iloc[:,1:]"
   ]
  },
  {
   "cell_type": "code",
   "execution_count": 3,
   "metadata": {},
   "outputs": [],
   "source": [
    "# so that I could use the 13 month data I have to take out columns from both X and X_great the 13 month data\n",
    "# because diferent month data have diferent NaN ratios in diferent columns so some of them got drop from one X but not the other \n",
    "# also it would be nice for the preprocess if the order of the columns be the same\n",
    "inter_col=X[np.intersect1d(X.columns,X_great.columns)].columns\n",
    "X=X[inter_col]\n",
    "X_great=X_great[inter_col]"
   ]
  },
  {
   "cell_type": "code",
   "execution_count": 4,
   "metadata": {},
   "outputs": [
    {
     "name": "stdout",
     "output_type": "stream",
     "text": [
      "(16259, 161)\n",
      "(16259, 1)\n",
      "(6969, 161)\n",
      "(6969, 1)\n"
     ]
    }
   ],
   "source": [
    "# here I make a train test split\n",
    "X_train,X_test,y_train,y_test=train_test_split(X,y, test_size=.3,random_state=42)\n",
    "print(X_train.shape)\n",
    "print(y_train.shape)\n",
    "print(X_test.shape)\n",
    "print(y_test.shape)"
   ]
  },
  {
   "cell_type": "code",
   "execution_count": 5,
   "metadata": {},
   "outputs": [
    {
     "data": {
      "text/html": [
       "<div>\n",
       "<style scoped>\n",
       "    .dataframe tbody tr th:only-of-type {\n",
       "        vertical-align: middle;\n",
       "    }\n",
       "\n",
       "    .dataframe tbody tr th {\n",
       "        vertical-align: top;\n",
       "    }\n",
       "\n",
       "    .dataframe thead th {\n",
       "        text-align: right;\n",
       "    }\n",
       "</style>\n",
       "<table border=\"1\" class=\"dataframe\">\n",
       "  <thead>\n",
       "    <tr style=\"text-align: right;\">\n",
       "      <th></th>\n",
       "      <th>target</th>\n",
       "    </tr>\n",
       "  </thead>\n",
       "  <tbody>\n",
       "    <tr>\n",
       "      <th>count</th>\n",
       "      <td>6969.000000</td>\n",
       "    </tr>\n",
       "    <tr>\n",
       "      <th>mean</th>\n",
       "      <td>0.500502</td>\n",
       "    </tr>\n",
       "    <tr>\n",
       "      <th>std</th>\n",
       "      <td>0.500036</td>\n",
       "    </tr>\n",
       "    <tr>\n",
       "      <th>min</th>\n",
       "      <td>0.000000</td>\n",
       "    </tr>\n",
       "    <tr>\n",
       "      <th>25%</th>\n",
       "      <td>0.000000</td>\n",
       "    </tr>\n",
       "    <tr>\n",
       "      <th>50%</th>\n",
       "      <td>1.000000</td>\n",
       "    </tr>\n",
       "    <tr>\n",
       "      <th>75%</th>\n",
       "      <td>1.000000</td>\n",
       "    </tr>\n",
       "    <tr>\n",
       "      <th>max</th>\n",
       "      <td>1.000000</td>\n",
       "    </tr>\n",
       "  </tbody>\n",
       "</table>\n",
       "</div>"
      ],
      "text/plain": [
       "            target\n",
       "count  6969.000000\n",
       "mean      0.500502\n",
       "std       0.500036\n",
       "min       0.000000\n",
       "25%       0.000000\n",
       "50%       1.000000\n",
       "75%       1.000000\n",
       "max       1.000000"
      ]
     },
     "execution_count": 5,
     "metadata": {},
     "output_type": "execute_result"
    }
   ],
   "source": [
    "# cheack if they are balance\n",
    "y_test.describe()"
   ]
  },
  {
   "cell_type": "code",
   "execution_count": 6,
   "metadata": {},
   "outputs": [
    {
     "data": {
      "text/html": [
       "<div>\n",
       "<style scoped>\n",
       "    .dataframe tbody tr th:only-of-type {\n",
       "        vertical-align: middle;\n",
       "    }\n",
       "\n",
       "    .dataframe tbody tr th {\n",
       "        vertical-align: top;\n",
       "    }\n",
       "\n",
       "    .dataframe thead th {\n",
       "        text-align: right;\n",
       "    }\n",
       "</style>\n",
       "<table border=\"1\" class=\"dataframe\">\n",
       "  <thead>\n",
       "    <tr style=\"text-align: right;\">\n",
       "      <th></th>\n",
       "      <th>target</th>\n",
       "    </tr>\n",
       "  </thead>\n",
       "  <tbody>\n",
       "    <tr>\n",
       "      <th>count</th>\n",
       "      <td>16259.000000</td>\n",
       "    </tr>\n",
       "    <tr>\n",
       "      <th>mean</th>\n",
       "      <td>0.499785</td>\n",
       "    </tr>\n",
       "    <tr>\n",
       "      <th>std</th>\n",
       "      <td>0.500015</td>\n",
       "    </tr>\n",
       "    <tr>\n",
       "      <th>min</th>\n",
       "      <td>0.000000</td>\n",
       "    </tr>\n",
       "    <tr>\n",
       "      <th>25%</th>\n",
       "      <td>0.000000</td>\n",
       "    </tr>\n",
       "    <tr>\n",
       "      <th>50%</th>\n",
       "      <td>0.000000</td>\n",
       "    </tr>\n",
       "    <tr>\n",
       "      <th>75%</th>\n",
       "      <td>1.000000</td>\n",
       "    </tr>\n",
       "    <tr>\n",
       "      <th>max</th>\n",
       "      <td>1.000000</td>\n",
       "    </tr>\n",
       "  </tbody>\n",
       "</table>\n",
       "</div>"
      ],
      "text/plain": [
       "             target\n",
       "count  16259.000000\n",
       "mean       0.499785\n",
       "std        0.500015\n",
       "min        0.000000\n",
       "25%        0.000000\n",
       "50%        0.000000\n",
       "75%        1.000000\n",
       "max        1.000000"
      ]
     },
     "execution_count": 6,
     "metadata": {},
     "output_type": "execute_result"
    }
   ],
   "source": [
    "y_train.describe()"
   ]
  },
  {
   "cell_type": "code",
   "execution_count": 7,
   "metadata": {},
   "outputs": [
    {
     "data": {
      "text/html": [
       "<style>#sk-container-id-1 {color: black;background-color: white;}#sk-container-id-1 pre{padding: 0;}#sk-container-id-1 div.sk-toggleable {background-color: white;}#sk-container-id-1 label.sk-toggleable__label {cursor: pointer;display: block;width: 100%;margin-bottom: 0;padding: 0.3em;box-sizing: border-box;text-align: center;}#sk-container-id-1 label.sk-toggleable__label-arrow:before {content: \"▸\";float: left;margin-right: 0.25em;color: #696969;}#sk-container-id-1 label.sk-toggleable__label-arrow:hover:before {color: black;}#sk-container-id-1 div.sk-estimator:hover label.sk-toggleable__label-arrow:before {color: black;}#sk-container-id-1 div.sk-toggleable__content {max-height: 0;max-width: 0;overflow: hidden;text-align: left;background-color: #f0f8ff;}#sk-container-id-1 div.sk-toggleable__content pre {margin: 0.2em;color: black;border-radius: 0.25em;background-color: #f0f8ff;}#sk-container-id-1 input.sk-toggleable__control:checked~div.sk-toggleable__content {max-height: 200px;max-width: 100%;overflow: auto;}#sk-container-id-1 input.sk-toggleable__control:checked~label.sk-toggleable__label-arrow:before {content: \"▾\";}#sk-container-id-1 div.sk-estimator input.sk-toggleable__control:checked~label.sk-toggleable__label {background-color: #d4ebff;}#sk-container-id-1 div.sk-label input.sk-toggleable__control:checked~label.sk-toggleable__label {background-color: #d4ebff;}#sk-container-id-1 input.sk-hidden--visually {border: 0;clip: rect(1px 1px 1px 1px);clip: rect(1px, 1px, 1px, 1px);height: 1px;margin: -1px;overflow: hidden;padding: 0;position: absolute;width: 1px;}#sk-container-id-1 div.sk-estimator {font-family: monospace;background-color: #f0f8ff;border: 1px dotted black;border-radius: 0.25em;box-sizing: border-box;margin-bottom: 0.5em;}#sk-container-id-1 div.sk-estimator:hover {background-color: #d4ebff;}#sk-container-id-1 div.sk-parallel-item::after {content: \"\";width: 100%;border-bottom: 1px solid gray;flex-grow: 1;}#sk-container-id-1 div.sk-label:hover label.sk-toggleable__label {background-color: #d4ebff;}#sk-container-id-1 div.sk-serial::before {content: \"\";position: absolute;border-left: 1px solid gray;box-sizing: border-box;top: 0;bottom: 0;left: 50%;z-index: 0;}#sk-container-id-1 div.sk-serial {display: flex;flex-direction: column;align-items: center;background-color: white;padding-right: 0.2em;padding-left: 0.2em;position: relative;}#sk-container-id-1 div.sk-item {position: relative;z-index: 1;}#sk-container-id-1 div.sk-parallel {display: flex;align-items: stretch;justify-content: center;background-color: white;position: relative;}#sk-container-id-1 div.sk-item::before, #sk-container-id-1 div.sk-parallel-item::before {content: \"\";position: absolute;border-left: 1px solid gray;box-sizing: border-box;top: 0;bottom: 0;left: 50%;z-index: -1;}#sk-container-id-1 div.sk-parallel-item {display: flex;flex-direction: column;z-index: 1;position: relative;background-color: white;}#sk-container-id-1 div.sk-parallel-item:first-child::after {align-self: flex-end;width: 50%;}#sk-container-id-1 div.sk-parallel-item:last-child::after {align-self: flex-start;width: 50%;}#sk-container-id-1 div.sk-parallel-item:only-child::after {width: 0;}#sk-container-id-1 div.sk-dashed-wrapped {border: 1px dashed gray;margin: 0 0.4em 0.5em 0.4em;box-sizing: border-box;padding-bottom: 0.4em;background-color: white;}#sk-container-id-1 div.sk-label label {font-family: monospace;font-weight: bold;display: inline-block;line-height: 1.2em;}#sk-container-id-1 div.sk-label-container {text-align: center;}#sk-container-id-1 div.sk-container {/* jupyter's `normalize.less` sets `[hidden] { display: none; }` but bootstrap.min.css set `[hidden] { display: none !important; }` so we also need the `!important` here to be able to override the default hidden behavior on the sphinx rendered scikit-learn.org. See: https://github.com/scikit-learn/scikit-learn/issues/21755 */display: inline-block !important;position: relative;}#sk-container-id-1 div.sk-text-repr-fallback {display: none;}</style><div id=\"sk-container-id-1\" class=\"sk-top-container\"><div class=\"sk-text-repr-fallback\"><pre>ColumnTransformer(transformers=[(&#x27;cat&#x27;,\n",
       "                                 Pipeline(steps=[(&#x27;imputer&#x27;,\n",
       "                                                  SimpleImputer(strategy=&#x27;most_frequent&#x27;)),\n",
       "                                                 (&#x27;encoder&#x27;,\n",
       "                                                  OrdinalEncoder(handle_unknown=&#x27;use_encoded_value&#x27;,\n",
       "                                                                 unknown_value=-1)),\n",
       "                                                 (&#x27;scaler&#x27;, StandardScaler())]),\n",
       "                                 [&#x27;D_63&#x27;, &#x27;D_64&#x27;]),\n",
       "                                (&#x27;num&#x27;,\n",
       "                                 Pipeline(steps=[(&#x27;imputer&#x27;, KNNImputer()),\n",
       "                                                 (&#x27;scaler&#x27;, StandardScaler())]),\n",
       "                                 [&#x27;B_11&#x27;, &#x27;B_12&#x27;, &#x27;B_13&#x27;, &#x27;B_14&#x27;, &#x27;B_15&#x27;,\n",
       "                                  &#x27;B_16&#x27;, &#x27;B_17&#x27;, &#x27;B_18&#x27;, &#x27;B_19&#x27;, &#x27;B_2&#x27;, &#x27;B_20&#x27;,\n",
       "                                  &#x27;B_21&#x27;, &#x27;B_22&#x27;, &#x27;B_23&#x27;, &#x27;B_24&#x27;, &#x27;B_25&#x27;,\n",
       "                                  &#x27;B_26&#x27;, &#x27;B_27&#x27;, &#x27;B_28&#x27;, &#x27;B_3&#x27;, &#x27;B_30&#x27;, &#x27;B_31&#x27;,\n",
       "                                  &#x27;B_32&#x27;, &#x27;B_33&#x27;, &#x27;B_36&#x27;, &#x27;B_37&#x27;, &#x27;B_38&#x27;, &#x27;B_4&#x27;,\n",
       "                                  &#x27;B_40&#x27;, &#x27;B_41&#x27;, ...])])</pre><b>In a Jupyter environment, please rerun this cell to show the HTML representation or trust the notebook. <br />On GitHub, the HTML representation is unable to render, please try loading this page with nbviewer.org.</b></div><div class=\"sk-container\" hidden><div class=\"sk-item sk-dashed-wrapped\"><div class=\"sk-label-container\"><div class=\"sk-label sk-toggleable\"><input class=\"sk-toggleable__control sk-hidden--visually\" id=\"sk-estimator-id-1\" type=\"checkbox\" ><label for=\"sk-estimator-id-1\" class=\"sk-toggleable__label sk-toggleable__label-arrow\">ColumnTransformer</label><div class=\"sk-toggleable__content\"><pre>ColumnTransformer(transformers=[(&#x27;cat&#x27;,\n",
       "                                 Pipeline(steps=[(&#x27;imputer&#x27;,\n",
       "                                                  SimpleImputer(strategy=&#x27;most_frequent&#x27;)),\n",
       "                                                 (&#x27;encoder&#x27;,\n",
       "                                                  OrdinalEncoder(handle_unknown=&#x27;use_encoded_value&#x27;,\n",
       "                                                                 unknown_value=-1)),\n",
       "                                                 (&#x27;scaler&#x27;, StandardScaler())]),\n",
       "                                 [&#x27;D_63&#x27;, &#x27;D_64&#x27;]),\n",
       "                                (&#x27;num&#x27;,\n",
       "                                 Pipeline(steps=[(&#x27;imputer&#x27;, KNNImputer()),\n",
       "                                                 (&#x27;scaler&#x27;, StandardScaler())]),\n",
       "                                 [&#x27;B_11&#x27;, &#x27;B_12&#x27;, &#x27;B_13&#x27;, &#x27;B_14&#x27;, &#x27;B_15&#x27;,\n",
       "                                  &#x27;B_16&#x27;, &#x27;B_17&#x27;, &#x27;B_18&#x27;, &#x27;B_19&#x27;, &#x27;B_2&#x27;, &#x27;B_20&#x27;,\n",
       "                                  &#x27;B_21&#x27;, &#x27;B_22&#x27;, &#x27;B_23&#x27;, &#x27;B_24&#x27;, &#x27;B_25&#x27;,\n",
       "                                  &#x27;B_26&#x27;, &#x27;B_27&#x27;, &#x27;B_28&#x27;, &#x27;B_3&#x27;, &#x27;B_30&#x27;, &#x27;B_31&#x27;,\n",
       "                                  &#x27;B_32&#x27;, &#x27;B_33&#x27;, &#x27;B_36&#x27;, &#x27;B_37&#x27;, &#x27;B_38&#x27;, &#x27;B_4&#x27;,\n",
       "                                  &#x27;B_40&#x27;, &#x27;B_41&#x27;, ...])])</pre></div></div></div><div class=\"sk-parallel\"><div class=\"sk-parallel-item\"><div class=\"sk-item\"><div class=\"sk-label-container\"><div class=\"sk-label sk-toggleable\"><input class=\"sk-toggleable__control sk-hidden--visually\" id=\"sk-estimator-id-2\" type=\"checkbox\" ><label for=\"sk-estimator-id-2\" class=\"sk-toggleable__label sk-toggleable__label-arrow\">cat</label><div class=\"sk-toggleable__content\"><pre>[&#x27;D_63&#x27;, &#x27;D_64&#x27;]</pre></div></div></div><div class=\"sk-serial\"><div class=\"sk-item\"><div class=\"sk-serial\"><div class=\"sk-item\"><div class=\"sk-estimator sk-toggleable\"><input class=\"sk-toggleable__control sk-hidden--visually\" id=\"sk-estimator-id-3\" type=\"checkbox\" ><label for=\"sk-estimator-id-3\" class=\"sk-toggleable__label sk-toggleable__label-arrow\">SimpleImputer</label><div class=\"sk-toggleable__content\"><pre>SimpleImputer(strategy=&#x27;most_frequent&#x27;)</pre></div></div></div><div class=\"sk-item\"><div class=\"sk-estimator sk-toggleable\"><input class=\"sk-toggleable__control sk-hidden--visually\" id=\"sk-estimator-id-4\" type=\"checkbox\" ><label for=\"sk-estimator-id-4\" class=\"sk-toggleable__label sk-toggleable__label-arrow\">OrdinalEncoder</label><div class=\"sk-toggleable__content\"><pre>OrdinalEncoder(handle_unknown=&#x27;use_encoded_value&#x27;, unknown_value=-1)</pre></div></div></div><div class=\"sk-item\"><div class=\"sk-estimator sk-toggleable\"><input class=\"sk-toggleable__control sk-hidden--visually\" id=\"sk-estimator-id-5\" type=\"checkbox\" ><label for=\"sk-estimator-id-5\" class=\"sk-toggleable__label sk-toggleable__label-arrow\">StandardScaler</label><div class=\"sk-toggleable__content\"><pre>StandardScaler()</pre></div></div></div></div></div></div></div></div><div class=\"sk-parallel-item\"><div class=\"sk-item\"><div class=\"sk-label-container\"><div class=\"sk-label sk-toggleable\"><input class=\"sk-toggleable__control sk-hidden--visually\" id=\"sk-estimator-id-6\" type=\"checkbox\" ><label for=\"sk-estimator-id-6\" class=\"sk-toggleable__label sk-toggleable__label-arrow\">num</label><div class=\"sk-toggleable__content\"><pre>[&#x27;B_11&#x27;, &#x27;B_12&#x27;, &#x27;B_13&#x27;, &#x27;B_14&#x27;, &#x27;B_15&#x27;, &#x27;B_16&#x27;, &#x27;B_17&#x27;, &#x27;B_18&#x27;, &#x27;B_19&#x27;, &#x27;B_2&#x27;, &#x27;B_20&#x27;, &#x27;B_21&#x27;, &#x27;B_22&#x27;, &#x27;B_23&#x27;, &#x27;B_24&#x27;, &#x27;B_25&#x27;, &#x27;B_26&#x27;, &#x27;B_27&#x27;, &#x27;B_28&#x27;, &#x27;B_3&#x27;, &#x27;B_30&#x27;, &#x27;B_31&#x27;, &#x27;B_32&#x27;, &#x27;B_33&#x27;, &#x27;B_36&#x27;, &#x27;B_37&#x27;, &#x27;B_38&#x27;, &#x27;B_4&#x27;, &#x27;B_40&#x27;, &#x27;B_41&#x27;, &#x27;B_5&#x27;, &#x27;B_6&#x27;, &#x27;B_7&#x27;, &#x27;B_8&#x27;, &#x27;B_9&#x27;, &#x27;D_102&#x27;, &#x27;D_103&#x27;, &#x27;D_104&#x27;, &#x27;D_105&#x27;, &#x27;D_107&#x27;, &#x27;D_109&#x27;, &#x27;D_112&#x27;, &#x27;D_113&#x27;, &#x27;D_114&#x27;, &#x27;D_115&#x27;, &#x27;D_116&#x27;, &#x27;D_117&#x27;, &#x27;D_118&#x27;, &#x27;D_119&#x27;, &#x27;D_120&#x27;, &#x27;D_121&#x27;, &#x27;D_122&#x27;, &#x27;D_123&#x27;, &#x27;D_124&#x27;, &#x27;D_125&#x27;, &#x27;D_126&#x27;, &#x27;D_127&#x27;, &#x27;D_128&#x27;, &#x27;D_129&#x27;, &#x27;D_130&#x27;, &#x27;D_131&#x27;, &#x27;D_133&#x27;, &#x27;D_139&#x27;, &#x27;D_140&#x27;, &#x27;D_141&#x27;, &#x27;D_143&#x27;, &#x27;D_144&#x27;, &#x27;D_145&#x27;, &#x27;D_41&#x27;, &#x27;D_43&#x27;, &#x27;D_44&#x27;, &#x27;D_45&#x27;, &#x27;D_46&#x27;, &#x27;D_47&#x27;, &#x27;D_48&#x27;, &#x27;D_50&#x27;, &#x27;D_51&#x27;, &#x27;D_52&#x27;, &#x27;D_54&#x27;, &#x27;D_55&#x27;, &#x27;D_56&#x27;, &#x27;D_58&#x27;, &#x27;D_59&#x27;, &#x27;D_60&#x27;, &#x27;D_61&#x27;, &#x27;D_62&#x27;, &#x27;D_65&#x27;, &#x27;D_68&#x27;, &#x27;D_69&#x27;, &#x27;D_70&#x27;, &#x27;D_71&#x27;, &#x27;D_72&#x27;, &#x27;D_74&#x27;, &#x27;D_75&#x27;, &#x27;D_77&#x27;, &#x27;D_78&#x27;, &#x27;D_79&#x27;, &#x27;D_80&#x27;, &#x27;D_81&#x27;, &#x27;D_83&#x27;, &#x27;D_84&#x27;, &#x27;D_86&#x27;, &#x27;D_89&#x27;, &#x27;D_91&#x27;, &#x27;D_92&#x27;, &#x27;D_93&#x27;, &#x27;D_94&#x27;, &#x27;D_96&#x27;, &#x27;Month&#x27;, &#x27;P_3&#x27;, &#x27;P_4&#x27;, &#x27;R_1&#x27;, &#x27;R_10&#x27;, &#x27;R_11&#x27;, &#x27;R_12&#x27;, &#x27;R_13&#x27;, &#x27;R_14&#x27;, &#x27;R_15&#x27;, &#x27;R_16&#x27;, &#x27;R_17&#x27;, &#x27;R_18&#x27;, &#x27;R_19&#x27;, &#x27;R_2&#x27;, &#x27;R_20&#x27;, &#x27;R_21&#x27;, &#x27;R_22&#x27;, &#x27;R_23&#x27;, &#x27;R_24&#x27;, &#x27;R_25&#x27;, &#x27;R_27&#x27;, &#x27;R_28&#x27;, &#x27;R_3&#x27;, &#x27;R_4&#x27;, &#x27;R_5&#x27;, &#x27;R_6&#x27;, &#x27;R_7&#x27;, &#x27;R_8&#x27;, &#x27;S_11&#x27;, &#x27;S_12&#x27;, &#x27;S_13&#x27;, &#x27;S_15&#x27;, &#x27;S_16&#x27;, &#x27;S_17&#x27;, &#x27;S_18&#x27;, &#x27;S_19&#x27;, &#x27;S_20&#x27;, &#x27;S_22&#x27;, &#x27;S_23&#x27;, &#x27;S_24&#x27;, &#x27;S_25&#x27;, &#x27;S_26&#x27;, &#x27;S_27&#x27;, &#x27;S_3&#x27;, &#x27;S_5&#x27;, &#x27;S_6&#x27;, &#x27;S_7&#x27;, &#x27;S_8&#x27;, &#x27;S_9&#x27;, &#x27;Year&#x27;]</pre></div></div></div><div class=\"sk-serial\"><div class=\"sk-item\"><div class=\"sk-serial\"><div class=\"sk-item\"><div class=\"sk-estimator sk-toggleable\"><input class=\"sk-toggleable__control sk-hidden--visually\" id=\"sk-estimator-id-7\" type=\"checkbox\" ><label for=\"sk-estimator-id-7\" class=\"sk-toggleable__label sk-toggleable__label-arrow\">KNNImputer</label><div class=\"sk-toggleable__content\"><pre>KNNImputer()</pre></div></div></div><div class=\"sk-item\"><div class=\"sk-estimator sk-toggleable\"><input class=\"sk-toggleable__control sk-hidden--visually\" id=\"sk-estimator-id-8\" type=\"checkbox\" ><label for=\"sk-estimator-id-8\" class=\"sk-toggleable__label sk-toggleable__label-arrow\">StandardScaler</label><div class=\"sk-toggleable__content\"><pre>StandardScaler()</pre></div></div></div></div></div></div></div></div></div></div></div></div>"
      ],
      "text/plain": [
       "ColumnTransformer(transformers=[('cat',\n",
       "                                 Pipeline(steps=[('imputer',\n",
       "                                                  SimpleImputer(strategy='most_frequent')),\n",
       "                                                 ('encoder',\n",
       "                                                  OrdinalEncoder(handle_unknown='use_encoded_value',\n",
       "                                                                 unknown_value=-1)),\n",
       "                                                 ('scaler', StandardScaler())]),\n",
       "                                 ['D_63', 'D_64']),\n",
       "                                ('num',\n",
       "                                 Pipeline(steps=[('imputer', KNNImputer()),\n",
       "                                                 ('scaler', StandardScaler())]),\n",
       "                                 ['B_11', 'B_12', 'B_13', 'B_14', 'B_15',\n",
       "                                  'B_16', 'B_17', 'B_18', 'B_19', 'B_2', 'B_20',\n",
       "                                  'B_21', 'B_22', 'B_23', 'B_24', 'B_25',\n",
       "                                  'B_26', 'B_27', 'B_28', 'B_3', 'B_30', 'B_31',\n",
       "                                  'B_32', 'B_33', 'B_36', 'B_37', 'B_38', 'B_4',\n",
       "                                  'B_40', 'B_41', ...])])"
      ]
     },
     "execution_count": 7,
     "metadata": {},
     "output_type": "execute_result"
    }
   ],
   "source": [
    "# make a imputer pipe line and train it for X train\n",
    "categorical=list(X_train.select_dtypes(\"object\").columns)\n",
    "numerical=list(X_train.select_dtypes(\"number\").columns)\n",
    "\n",
    "cat_pipe=Pipeline([\n",
    "    (\"imputer\",SimpleImputer(strategy=\"most_frequent\", missing_values=np.nan)),\n",
    "    (\"encoder\",OrdinalEncoder(handle_unknown=\"use_encoded_value\",unknown_value=-1)),\n",
    "    (\"scaler\",StandardScaler())\n",
    "    ])\n",
    "\n",
    "num_pipe=Pipeline([\n",
    "(\"imputer\",KNNImputer(n_neighbors=5,weights=\"uniform\",missing_values=np.nan)),\n",
    "(\"scaler\",StandardScaler())\n",
    "])\n",
    "\n",
    "preprocess=ColumnTransformer([(\"cat\",cat_pipe,categorical), \n",
    "(\"num\",num_pipe,numerical)])\n",
    "\n",
    "\n",
    "preprocess.fit(X_train)"
   ]
  },
  {
   "cell_type": "code",
   "execution_count": 8,
   "metadata": {},
   "outputs": [],
   "source": [
    "# process X\n",
    "X_train=preprocess.transform(X_train)"
   ]
  },
  {
   "cell_type": "code",
   "execution_count": 9,
   "metadata": {},
   "outputs": [
    {
     "name": "stderr",
     "output_type": "stream",
     "text": [
      "c:\\Users\\Joni\\AppData\\Local\\Programs\\Python\\Python39\\lib\\site-packages\\sklearn\\feature_selection\\_univariate_selection.py:110: UserWarning: Features [109 159] are constant.\n",
      "  warnings.warn(\"Features %s are constant.\" % constant_features_idx, UserWarning)\n",
      "c:\\Users\\Joni\\AppData\\Local\\Programs\\Python\\Python39\\lib\\site-packages\\sklearn\\feature_selection\\_univariate_selection.py:111: RuntimeWarning: invalid value encountered in divide\n",
      "  f = msb / msw\n"
     ]
    }
   ],
   "source": [
    "# create a df to cheack the columns score of importance\n",
    "skb=SelectKBest(k=\"all\")\n",
    "skb.fit(X_train,y_train.values.reshape(1,-1)[0])\n",
    "imp_feat=pd.DataFrame(skb.scores_).sort_values(0,ascending=False)"
   ]
  },
  {
   "cell_type": "code",
   "execution_count": 10,
   "metadata": {},
   "outputs": [
    {
     "data": {
      "image/png": "[encoded data removed]",
      "text/plain": [
       "<Figure size 640x480 with 1 Axes>"
      ]
     },
     "metadata": {},
     "output_type": "display_data"
    }
   ],
   "source": [
    "# that column is to high in train\n",
    "graph=sns.barplot(x=imp_feat.index,y=imp_feat[0], order=imp_feat.index)\n",
    "graph.set(xticklabels=[]);"
   ]
  },
  {
   "cell_type": "code",
   "execution_count": 11,
   "metadata": {},
   "outputs": [
    {
     "name": "stderr",
     "output_type": "stream",
     "text": [
      "c:\\Users\\Joni\\AppData\\Local\\Programs\\Python\\Python39\\lib\\site-packages\\sklearn\\feature_selection\\_univariate_selection.py:110: UserWarning: Features [109 159] are constant.\n",
      "  warnings.warn(\"Features %s are constant.\" % constant_features_idx, UserWarning)\n",
      "c:\\Users\\Joni\\AppData\\Local\\Programs\\Python\\Python39\\lib\\site-packages\\sklearn\\feature_selection\\_univariate_selection.py:111: RuntimeWarning: invalid value encountered in divide\n",
      "  f = msb / msw\n"
     ]
    }
   ],
   "source": [
    "# do it for test\n",
    "skb=SelectKBest(k=\"all\")\n",
    "skb.fit(preprocess.transform(X_test),y_test.values.reshape(1,-1)[0])\n",
    "imp_feat=pd.DataFrame(skb.scores_).sort_values(0,ascending=False)"
   ]
  },
  {
   "cell_type": "code",
   "execution_count": 12,
   "metadata": {},
   "outputs": [
    {
     "data": {
      "image/png": "[encoded data removed]",
      "text/plain": [
       "<Figure size 640x480 with 1 Axes>"
      ]
     },
     "metadata": {},
     "output_type": "display_data"
    }
   ],
   "source": [
    "# also to high in test\n",
    "graph=sns.barplot(x=imp_feat.index,y=imp_feat[0], order=imp_feat.index)\n",
    "graph.set(xticklabels=[]);"
   ]
  },
  {
   "cell_type": "code",
   "execution_count": 13,
   "metadata": {},
   "outputs": [],
   "source": [
    "# check it on the 13 month data\n",
    "temp=preprocess.transform(X_great)"
   ]
  },
  {
   "cell_type": "code",
   "execution_count": 14,
   "metadata": {},
   "outputs": [
    {
     "name": "stderr",
     "output_type": "stream",
     "text": [
      "c:\\Users\\Joni\\AppData\\Local\\Programs\\Python\\Python39\\lib\\site-packages\\sklearn\\feature_selection\\_univariate_selection.py:110: UserWarning: Features [109 159] are constant.\n",
      "  warnings.warn(\"Features %s are constant.\" % constant_features_idx, UserWarning)\n",
      "c:\\Users\\Joni\\AppData\\Local\\Programs\\Python\\Python39\\lib\\site-packages\\sklearn\\feature_selection\\_univariate_selection.py:111: RuntimeWarning: invalid value encountered in divide\n",
      "  f = msb / msw\n"
     ]
    }
   ],
   "source": [
    "skb=SelectKBest(k=\"all\")\n",
    "skb.fit(temp,y_great.values.reshape(1,-1)[0])\n",
    "imp_feat=pd.DataFrame(skb.scores_).sort_values(0,ascending=False)"
   ]
  },
  {
   "cell_type": "code",
   "execution_count": 15,
   "metadata": {},
   "outputs": [
    {
     "data": {
      "image/png": "[encoded data removed]",
      "text/plain": [
       "<Figure size 640x480 with 1 Axes>"
      ]
     },
     "metadata": {},
     "output_type": "display_data"
    }
   ],
   "source": [
    "# no spike here\n",
    "graph=sns.barplot(x=imp_feat.index,y=imp_feat[0], order=imp_feat.index)\n",
    "graph.set(xticklabels=[]);"
   ]
  },
  {
   "cell_type": "code",
   "execution_count": 16,
   "metadata": {},
   "outputs": [
    {
     "name": "stderr",
     "output_type": "stream",
     "text": [
      "c:\\Users\\Joni\\AppData\\Local\\Programs\\Python\\Python39\\lib\\site-packages\\sklearn\\feature_selection\\_univariate_selection.py:110: UserWarning: Features [109 159] are constant.\n",
      "  warnings.warn(\"Features %s are constant.\" % constant_features_idx, UserWarning)\n",
      "c:\\Users\\Joni\\AppData\\Local\\Programs\\Python\\Python39\\lib\\site-packages\\sklearn\\feature_selection\\_univariate_selection.py:111: RuntimeWarning: invalid value encountered in divide\n",
      "  f = msb / msw\n"
     ]
    }
   ],
   "source": [
    "# create an array with the top col\n",
    "skb=SelectKBest(k=1)\n",
    "skb.fit(X_train,y_train.values.reshape(1,-1)[0])\n",
    "data_X=skb.transform(X_train)"
   ]
  },
  {
   "cell_type": "code",
   "execution_count": 17,
   "metadata": {},
   "outputs": [],
   "source": [
    "# check its index\n",
    "num_col=list(filter(lambda x: x if data_X.tolist()==X_train[:,x].reshape(-1,1).tolist() else None,range(0,159)))"
   ]
  },
  {
   "cell_type": "code",
   "execution_count": 18,
   "metadata": {},
   "outputs": [
    {
     "data": {
      "text/plain": [
       "0        0.001860\n",
       "1        0.076201\n",
       "2        0.006732\n",
       "3        0.042243\n",
       "4        0.047504\n",
       "           ...   \n",
       "23223    0.003729\n",
       "23224    0.109330\n",
       "23225    0.000094\n",
       "23226    0.215608\n",
       "23227    0.005274\n",
       "Name: S_5, Length: 23228, dtype: float64"
      ]
     },
     "execution_count": 18,
     "metadata": {},
     "output_type": "execute_result"
    }
   ],
   "source": [
    "# this is the column is a spending column\n",
    "X.iloc[:,num_col[0]]"
   ]
  },
  {
   "cell_type": "code",
   "execution_count": 19,
   "metadata": {},
   "outputs": [
    {
     "name": "stderr",
     "output_type": "stream",
     "text": [
      "c:\\Users\\Joni\\AppData\\Local\\Programs\\Python\\Python39\\lib\\site-packages\\sklearn\\feature_selection\\_univariate_selection.py:110: UserWarning: Features [109 158] are constant.\n",
      "  warnings.warn(\"Features %s are constant.\" % constant_features_idx, UserWarning)\n",
      "c:\\Users\\Joni\\AppData\\Local\\Programs\\Python\\Python39\\lib\\site-packages\\sklearn\\feature_selection\\_univariate_selection.py:111: RuntimeWarning: invalid value encountered in divide\n",
      "  f = msb / msw\n"
     ]
    },
    {
     "data": {
      "image/png": "[encoded data removed]",
      "text/plain": [
       "<Figure size 640x480 with 1 Axes>"
      ]
     },
     "metadata": {},
     "output_type": "display_data"
    }
   ],
   "source": [
    "# drop the column and cheack if it is out\n",
    "X_train=pd.DataFrame(X_train)\n",
    "X_train=X_train.drop(num_col[0],axis=1)\n",
    "skb=SelectKBest(k=\"all\")\n",
    "skb.fit(X_train,y_train.values.reshape(1,-1)[0])\n",
    "imp_feat=pd.DataFrame(skb.scores_).sort_values(0,ascending=False)\n",
    "graph=sns.barplot(x=imp_feat.index,y=imp_feat[0], order=imp_feat.index)\n",
    "graph.set(xticklabels=[]);"
   ]
  },
  {
   "cell_type": "code",
   "execution_count": 20,
   "metadata": {},
   "outputs": [],
   "source": [
    "# drop col and transform with the preprocess X_test and great_X\n",
    "X_test=preprocess.transform(X_test)\n",
    "X_test=pd.DataFrame(X_test)\n",
    "X_test=X_test.drop(num_col[0],axis=1)\n",
    "X_great=pd.DataFrame(temp)\n",
    "X_great=X_great.drop(num_col[0],axis=1)"
   ]
  },
  {
   "cell_type": "code",
   "execution_count": 32,
   "metadata": {},
   "outputs": [
    {
     "name": "stderr",
     "output_type": "stream",
     "text": [
      "c:\\Users\\Joni\\AppData\\Local\\Programs\\Python\\Python39\\lib\\site-packages\\sklearn\\feature_selection\\_univariate_selection.py:110: UserWarning: Features [109 158] are constant.\n",
      "  warnings.warn(\"Features %s are constant.\" % constant_features_idx, UserWarning)\n",
      "c:\\Users\\Joni\\AppData\\Local\\Programs\\Python\\Python39\\lib\\site-packages\\sklearn\\feature_selection\\_univariate_selection.py:111: RuntimeWarning: invalid value encountered in divide\n",
      "  f = msb / msw\n"
     ]
    },
    {
     "data": {
      "image/png": "[encoded data removed]",
      "text/plain": [
       "<Figure size 640x480 with 1 Axes>"
      ]
     },
     "metadata": {},
     "output_type": "display_data"
    }
   ],
   "source": [
    "# check the great_X again\n",
    "skb=SelectKBest(k=\"all\")\n",
    "skb.fit(X_great,y_great.values.reshape(1,-1)[0])\n",
    "imp_feat=pd.DataFrame(skb.scores_).sort_values(0,ascending=False)\n",
    "graph=sns.barplot(x=imp_feat.index,y=imp_feat[0], order=imp_feat.index)\n",
    "graph.set(xticklabels=[]);"
   ]
  },
  {
   "cell_type": "code",
   "execution_count": 31,
   "metadata": {},
   "outputs": [
    {
     "name": "stderr",
     "output_type": "stream",
     "text": [
      "c:\\Users\\Joni\\AppData\\Local\\Programs\\Python\\Python39\\lib\\site-packages\\sklearn\\feature_selection\\_univariate_selection.py:110: UserWarning: Features [109 158] are constant.\n",
      "  warnings.warn(\"Features %s are constant.\" % constant_features_idx, UserWarning)\n",
      "c:\\Users\\Joni\\AppData\\Local\\Programs\\Python\\Python39\\lib\\site-packages\\sklearn\\feature_selection\\_univariate_selection.py:111: RuntimeWarning: invalid value encountered in divide\n",
      "  f = msb / msw\n"
     ]
    },
    {
     "data": {
      "image/png": "[encoded data removed]",
      "text/plain": [
       "<Figure size 640x480 with 1 Axes>"
      ]
     },
     "metadata": {},
     "output_type": "display_data"
    }
   ],
   "source": [
    "# cheack the X_test with the drop comlumn\n",
    "skb=SelectKBest(k=\"all\")\n",
    "skb.fit(X_test,y_test.values.reshape(1,-1)[0])\n",
    "imp_feat=pd.DataFrame(skb.scores_).sort_values(0,ascending=False)\n",
    "graph=sns.barplot(x=imp_feat.index,y=imp_feat[0], order=imp_feat.index)\n",
    "graph.set(xticklabels=[]);"
   ]
  },
  {
   "cell_type": "code",
   "execution_count": 39,
   "metadata": {},
   "outputs": [
    {
     "name": "stderr",
     "output_type": "stream",
     "text": [
      "c:\\Users\\Joni\\AppData\\Local\\Programs\\Python\\Python39\\lib\\site-packages\\sklearn\\utils\\validation.py:1111: DataConversionWarning: A column-vector y was passed when a 1d array was expected. Please change the shape of y to (n_samples, ), for example using ravel().\n",
      "  y = column_or_1d(y, warn=True)\n",
      "c:\\Users\\Joni\\AppData\\Local\\Programs\\Python\\Python39\\lib\\site-packages\\sklearn\\feature_selection\\_univariate_selection.py:110: UserWarning: Features [109 158] are constant.\n",
      "  warnings.warn(\"Features %s are constant.\" % constant_features_idx, UserWarning)\n",
      "c:\\Users\\Joni\\AppData\\Local\\Programs\\Python\\Python39\\lib\\site-packages\\sklearn\\feature_selection\\_univariate_selection.py:111: RuntimeWarning: invalid value encountered in divide\n",
      "  f = msb / msw\n"
     ]
    }
   ],
   "source": [
    "# now pick up holy the top 25 following the rule of log(n)*5 a bit above\n",
    "skb=SelectKBest(k=25)\n",
    "skb.fit(X_train,y_train)\n",
    "X_train=skb.transform(X_train)\n",
    "X_test=skb.transform(X_test)\n",
    "X_great=skb.transform(X_great)"
   ]
  },
  {
   "cell_type": "code",
   "execution_count": 54,
   "metadata": {},
   "outputs": [],
   "source": [
    "final_pre_pipe=Pipeline([(\"preprocess\",preprocess),(\"skb\",skb)])"
   ]
  },
  {
   "cell_type": "code",
   "execution_count": 55,
   "metadata": {},
   "outputs": [
    {
     "data": {
      "text/html": [
       "<style>#sk-container-id-2 {color: black;background-color: white;}#sk-container-id-2 pre{padding: 0;}#sk-container-id-2 div.sk-toggleable {background-color: white;}#sk-container-id-2 label.sk-toggleable__label {cursor: pointer;display: block;width: 100%;margin-bottom: 0;padding: 0.3em;box-sizing: border-box;text-align: center;}#sk-container-id-2 label.sk-toggleable__label-arrow:before {content: \"▸\";float: left;margin-right: 0.25em;color: #696969;}#sk-container-id-2 label.sk-toggleable__label-arrow:hover:before {color: black;}#sk-container-id-2 div.sk-estimator:hover label.sk-toggleable__label-arrow:before {color: black;}#sk-container-id-2 div.sk-toggleable__content {max-height: 0;max-width: 0;overflow: hidden;text-align: left;background-color: #f0f8ff;}#sk-container-id-2 div.sk-toggleable__content pre {margin: 0.2em;color: black;border-radius: 0.25em;background-color: #f0f8ff;}#sk-container-id-2 input.sk-toggleable__control:checked~div.sk-toggleable__content {max-height: 200px;max-width: 100%;overflow: auto;}#sk-container-id-2 input.sk-toggleable__control:checked~label.sk-toggleable__label-arrow:before {content: \"▾\";}#sk-container-id-2 div.sk-estimator input.sk-toggleable__control:checked~label.sk-toggleable__label {background-color: #d4ebff;}#sk-container-id-2 div.sk-label input.sk-toggleable__control:checked~label.sk-toggleable__label {background-color: #d4ebff;}#sk-container-id-2 input.sk-hidden--visually {border: 0;clip: rect(1px 1px 1px 1px);clip: rect(1px, 1px, 1px, 1px);height: 1px;margin: -1px;overflow: hidden;padding: 0;position: absolute;width: 1px;}#sk-container-id-2 div.sk-estimator {font-family: monospace;background-color: #f0f8ff;border: 1px dotted black;border-radius: 0.25em;box-sizing: border-box;margin-bottom: 0.5em;}#sk-container-id-2 div.sk-estimator:hover {background-color: #d4ebff;}#sk-container-id-2 div.sk-parallel-item::after {content: \"\";width: 100%;border-bottom: 1px solid gray;flex-grow: 1;}#sk-container-id-2 div.sk-label:hover label.sk-toggleable__label {background-color: #d4ebff;}#sk-container-id-2 div.sk-serial::before {content: \"\";position: absolute;border-left: 1px solid gray;box-sizing: border-box;top: 0;bottom: 0;left: 50%;z-index: 0;}#sk-container-id-2 div.sk-serial {display: flex;flex-direction: column;align-items: center;background-color: white;padding-right: 0.2em;padding-left: 0.2em;position: relative;}#sk-container-id-2 div.sk-item {position: relative;z-index: 1;}#sk-container-id-2 div.sk-parallel {display: flex;align-items: stretch;justify-content: center;background-color: white;position: relative;}#sk-container-id-2 div.sk-item::before, #sk-container-id-2 div.sk-parallel-item::before {content: \"\";position: absolute;border-left: 1px solid gray;box-sizing: border-box;top: 0;bottom: 0;left: 50%;z-index: -1;}#sk-container-id-2 div.sk-parallel-item {display: flex;flex-direction: column;z-index: 1;position: relative;background-color: white;}#sk-container-id-2 div.sk-parallel-item:first-child::after {align-self: flex-end;width: 50%;}#sk-container-id-2 div.sk-parallel-item:last-child::after {align-self: flex-start;width: 50%;}#sk-container-id-2 div.sk-parallel-item:only-child::after {width: 0;}#sk-container-id-2 div.sk-dashed-wrapped {border: 1px dashed gray;margin: 0 0.4em 0.5em 0.4em;box-sizing: border-box;padding-bottom: 0.4em;background-color: white;}#sk-container-id-2 div.sk-label label {font-family: monospace;font-weight: bold;display: inline-block;line-height: 1.2em;}#sk-container-id-2 div.sk-label-container {text-align: center;}#sk-container-id-2 div.sk-container {/* jupyter's `normalize.less` sets `[hidden] { display: none; }` but bootstrap.min.css set `[hidden] { display: none !important; }` so we also need the `!important` here to be able to override the default hidden behavior on the sphinx rendered scikit-learn.org. See: https://github.com/scikit-learn/scikit-learn/issues/21755 */display: inline-block !important;position: relative;}#sk-container-id-2 div.sk-text-repr-fallback {display: none;}</style><div id=\"sk-container-id-2\" class=\"sk-top-container\"><div class=\"sk-text-repr-fallback\"><pre>Pipeline(steps=[(&#x27;preprocess&#x27;,\n",
       "                 ColumnTransformer(transformers=[(&#x27;cat&#x27;,\n",
       "                                                  Pipeline(steps=[(&#x27;imputer&#x27;,\n",
       "                                                                   SimpleImputer(strategy=&#x27;most_frequent&#x27;)),\n",
       "                                                                  (&#x27;encoder&#x27;,\n",
       "                                                                   OrdinalEncoder(handle_unknown=&#x27;use_encoded_value&#x27;,\n",
       "                                                                                  unknown_value=-1)),\n",
       "                                                                  (&#x27;scaler&#x27;,\n",
       "                                                                   StandardScaler())]),\n",
       "                                                  [&#x27;D_63&#x27;, &#x27;D_64&#x27;]),\n",
       "                                                 (&#x27;num&#x27;,\n",
       "                                                  Pipeline(steps=[(&#x27;imputer&#x27;,\n",
       "                                                                   KNNImputer()),\n",
       "                                                                  (&#x27;scaler&#x27;,\n",
       "                                                                   StandardScaler())]),\n",
       "                                                  [&#x27;B_11&#x27;, &#x27;B_12&#x27;, &#x27;B_13&#x27;,\n",
       "                                                   &#x27;B_14&#x27;, &#x27;B_15&#x27;, &#x27;B_16&#x27;,\n",
       "                                                   &#x27;B_17&#x27;, &#x27;B_18&#x27;, &#x27;B_19&#x27;,\n",
       "                                                   &#x27;B_2&#x27;, &#x27;B_20&#x27;, &#x27;B_21&#x27;,\n",
       "                                                   &#x27;B_22&#x27;, &#x27;B_23&#x27;, &#x27;B_24&#x27;,\n",
       "                                                   &#x27;B_25&#x27;, &#x27;B_26&#x27;, &#x27;B_27&#x27;,\n",
       "                                                   &#x27;B_28&#x27;, &#x27;B_3&#x27;, &#x27;B_30&#x27;,\n",
       "                                                   &#x27;B_31&#x27;, &#x27;B_32&#x27;, &#x27;B_33&#x27;,\n",
       "                                                   &#x27;B_36&#x27;, &#x27;B_37&#x27;, &#x27;B_38&#x27;,\n",
       "                                                   &#x27;B_4&#x27;, &#x27;B_40&#x27;, &#x27;B_41&#x27;, ...])])),\n",
       "                (&#x27;skb&#x27;, SelectKBest(k=&#x27;all&#x27;))])</pre><b>In a Jupyter environment, please rerun this cell to show the HTML representation or trust the notebook. <br />On GitHub, the HTML representation is unable to render, please try loading this page with nbviewer.org.</b></div><div class=\"sk-container\" hidden><div class=\"sk-item sk-dashed-wrapped\"><div class=\"sk-label-container\"><div class=\"sk-label sk-toggleable\"><input class=\"sk-toggleable__control sk-hidden--visually\" id=\"sk-estimator-id-9\" type=\"checkbox\" ><label for=\"sk-estimator-id-9\" class=\"sk-toggleable__label sk-toggleable__label-arrow\">Pipeline</label><div class=\"sk-toggleable__content\"><pre>Pipeline(steps=[(&#x27;preprocess&#x27;,\n",
       "                 ColumnTransformer(transformers=[(&#x27;cat&#x27;,\n",
       "                                                  Pipeline(steps=[(&#x27;imputer&#x27;,\n",
       "                                                                   SimpleImputer(strategy=&#x27;most_frequent&#x27;)),\n",
       "                                                                  (&#x27;encoder&#x27;,\n",
       "                                                                   OrdinalEncoder(handle_unknown=&#x27;use_encoded_value&#x27;,\n",
       "                                                                                  unknown_value=-1)),\n",
       "                                                                  (&#x27;scaler&#x27;,\n",
       "                                                                   StandardScaler())]),\n",
       "                                                  [&#x27;D_63&#x27;, &#x27;D_64&#x27;]),\n",
       "                                                 (&#x27;num&#x27;,\n",
       "                                                  Pipeline(steps=[(&#x27;imputer&#x27;,\n",
       "                                                                   KNNImputer()),\n",
       "                                                                  (&#x27;scaler&#x27;,\n",
       "                                                                   StandardScaler())]),\n",
       "                                                  [&#x27;B_11&#x27;, &#x27;B_12&#x27;, &#x27;B_13&#x27;,\n",
       "                                                   &#x27;B_14&#x27;, &#x27;B_15&#x27;, &#x27;B_16&#x27;,\n",
       "                                                   &#x27;B_17&#x27;, &#x27;B_18&#x27;, &#x27;B_19&#x27;,\n",
       "                                                   &#x27;B_2&#x27;, &#x27;B_20&#x27;, &#x27;B_21&#x27;,\n",
       "                                                   &#x27;B_22&#x27;, &#x27;B_23&#x27;, &#x27;B_24&#x27;,\n",
       "                                                   &#x27;B_25&#x27;, &#x27;B_26&#x27;, &#x27;B_27&#x27;,\n",
       "                                                   &#x27;B_28&#x27;, &#x27;B_3&#x27;, &#x27;B_30&#x27;,\n",
       "                                                   &#x27;B_31&#x27;, &#x27;B_32&#x27;, &#x27;B_33&#x27;,\n",
       "                                                   &#x27;B_36&#x27;, &#x27;B_37&#x27;, &#x27;B_38&#x27;,\n",
       "                                                   &#x27;B_4&#x27;, &#x27;B_40&#x27;, &#x27;B_41&#x27;, ...])])),\n",
       "                (&#x27;skb&#x27;, SelectKBest(k=&#x27;all&#x27;))])</pre></div></div></div><div class=\"sk-serial\"><div class=\"sk-item sk-dashed-wrapped\"><div class=\"sk-label-container\"><div class=\"sk-label sk-toggleable\"><input class=\"sk-toggleable__control sk-hidden--visually\" id=\"sk-estimator-id-10\" type=\"checkbox\" ><label for=\"sk-estimator-id-10\" class=\"sk-toggleable__label sk-toggleable__label-arrow\">preprocess: ColumnTransformer</label><div class=\"sk-toggleable__content\"><pre>ColumnTransformer(transformers=[(&#x27;cat&#x27;,\n",
       "                                 Pipeline(steps=[(&#x27;imputer&#x27;,\n",
       "                                                  SimpleImputer(strategy=&#x27;most_frequent&#x27;)),\n",
       "                                                 (&#x27;encoder&#x27;,\n",
       "                                                  OrdinalEncoder(handle_unknown=&#x27;use_encoded_value&#x27;,\n",
       "                                                                 unknown_value=-1)),\n",
       "                                                 (&#x27;scaler&#x27;, StandardScaler())]),\n",
       "                                 [&#x27;D_63&#x27;, &#x27;D_64&#x27;]),\n",
       "                                (&#x27;num&#x27;,\n",
       "                                 Pipeline(steps=[(&#x27;imputer&#x27;, KNNImputer()),\n",
       "                                                 (&#x27;scaler&#x27;, StandardScaler())]),\n",
       "                                 [&#x27;B_11&#x27;, &#x27;B_12&#x27;, &#x27;B_13&#x27;, &#x27;B_14&#x27;, &#x27;B_15&#x27;,\n",
       "                                  &#x27;B_16&#x27;, &#x27;B_17&#x27;, &#x27;B_18&#x27;, &#x27;B_19&#x27;, &#x27;B_2&#x27;, &#x27;B_20&#x27;,\n",
       "                                  &#x27;B_21&#x27;, &#x27;B_22&#x27;, &#x27;B_23&#x27;, &#x27;B_24&#x27;, &#x27;B_25&#x27;,\n",
       "                                  &#x27;B_26&#x27;, &#x27;B_27&#x27;, &#x27;B_28&#x27;, &#x27;B_3&#x27;, &#x27;B_30&#x27;, &#x27;B_31&#x27;,\n",
       "                                  &#x27;B_32&#x27;, &#x27;B_33&#x27;, &#x27;B_36&#x27;, &#x27;B_37&#x27;, &#x27;B_38&#x27;, &#x27;B_4&#x27;,\n",
       "                                  &#x27;B_40&#x27;, &#x27;B_41&#x27;, ...])])</pre></div></div></div><div class=\"sk-parallel\"><div class=\"sk-parallel-item\"><div class=\"sk-item\"><div class=\"sk-label-container\"><div class=\"sk-label sk-toggleable\"><input class=\"sk-toggleable__control sk-hidden--visually\" id=\"sk-estimator-id-11\" type=\"checkbox\" ><label for=\"sk-estimator-id-11\" class=\"sk-toggleable__label sk-toggleable__label-arrow\">cat</label><div class=\"sk-toggleable__content\"><pre>[&#x27;D_63&#x27;, &#x27;D_64&#x27;]</pre></div></div></div><div class=\"sk-serial\"><div class=\"sk-item\"><div class=\"sk-serial\"><div class=\"sk-item\"><div class=\"sk-estimator sk-toggleable\"><input class=\"sk-toggleable__control sk-hidden--visually\" id=\"sk-estimator-id-12\" type=\"checkbox\" ><label for=\"sk-estimator-id-12\" class=\"sk-toggleable__label sk-toggleable__label-arrow\">SimpleImputer</label><div class=\"sk-toggleable__content\"><pre>SimpleImputer(strategy=&#x27;most_frequent&#x27;)</pre></div></div></div><div class=\"sk-item\"><div class=\"sk-estimator sk-toggleable\"><input class=\"sk-toggleable__control sk-hidden--visually\" id=\"sk-estimator-id-13\" type=\"checkbox\" ><label for=\"sk-estimator-id-13\" class=\"sk-toggleable__label sk-toggleable__label-arrow\">OrdinalEncoder</label><div class=\"sk-toggleable__content\"><pre>OrdinalEncoder(handle_unknown=&#x27;use_encoded_value&#x27;, unknown_value=-1)</pre></div></div></div><div class=\"sk-item\"><div class=\"sk-estimator sk-toggleable\"><input class=\"sk-toggleable__control sk-hidden--visually\" id=\"sk-estimator-id-14\" type=\"checkbox\" ><label for=\"sk-estimator-id-14\" class=\"sk-toggleable__label sk-toggleable__label-arrow\">StandardScaler</label><div class=\"sk-toggleable__content\"><pre>StandardScaler()</pre></div></div></div></div></div></div></div></div><div class=\"sk-parallel-item\"><div class=\"sk-item\"><div class=\"sk-label-container\"><div class=\"sk-label sk-toggleable\"><input class=\"sk-toggleable__control sk-hidden--visually\" id=\"sk-estimator-id-15\" type=\"checkbox\" ><label for=\"sk-estimator-id-15\" class=\"sk-toggleable__label sk-toggleable__label-arrow\">num</label><div class=\"sk-toggleable__content\"><pre>[&#x27;B_11&#x27;, &#x27;B_12&#x27;, &#x27;B_13&#x27;, &#x27;B_14&#x27;, &#x27;B_15&#x27;, &#x27;B_16&#x27;, &#x27;B_17&#x27;, &#x27;B_18&#x27;, &#x27;B_19&#x27;, &#x27;B_2&#x27;, &#x27;B_20&#x27;, &#x27;B_21&#x27;, &#x27;B_22&#x27;, &#x27;B_23&#x27;, &#x27;B_24&#x27;, &#x27;B_25&#x27;, &#x27;B_26&#x27;, &#x27;B_27&#x27;, &#x27;B_28&#x27;, &#x27;B_3&#x27;, &#x27;B_30&#x27;, &#x27;B_31&#x27;, &#x27;B_32&#x27;, &#x27;B_33&#x27;, &#x27;B_36&#x27;, &#x27;B_37&#x27;, &#x27;B_38&#x27;, &#x27;B_4&#x27;, &#x27;B_40&#x27;, &#x27;B_41&#x27;, &#x27;B_5&#x27;, &#x27;B_6&#x27;, &#x27;B_7&#x27;, &#x27;B_8&#x27;, &#x27;B_9&#x27;, &#x27;D_102&#x27;, &#x27;D_103&#x27;, &#x27;D_104&#x27;, &#x27;D_105&#x27;, &#x27;D_107&#x27;, &#x27;D_109&#x27;, &#x27;D_112&#x27;, &#x27;D_113&#x27;, &#x27;D_114&#x27;, &#x27;D_115&#x27;, &#x27;D_116&#x27;, &#x27;D_117&#x27;, &#x27;D_118&#x27;, &#x27;D_119&#x27;, &#x27;D_120&#x27;, &#x27;D_121&#x27;, &#x27;D_122&#x27;, &#x27;D_123&#x27;, &#x27;D_124&#x27;, &#x27;D_125&#x27;, &#x27;D_126&#x27;, &#x27;D_127&#x27;, &#x27;D_128&#x27;, &#x27;D_129&#x27;, &#x27;D_130&#x27;, &#x27;D_131&#x27;, &#x27;D_133&#x27;, &#x27;D_139&#x27;, &#x27;D_140&#x27;, &#x27;D_141&#x27;, &#x27;D_143&#x27;, &#x27;D_144&#x27;, &#x27;D_145&#x27;, &#x27;D_41&#x27;, &#x27;D_43&#x27;, &#x27;D_44&#x27;, &#x27;D_45&#x27;, &#x27;D_46&#x27;, &#x27;D_47&#x27;, &#x27;D_48&#x27;, &#x27;D_50&#x27;, &#x27;D_51&#x27;, &#x27;D_52&#x27;, &#x27;D_54&#x27;, &#x27;D_55&#x27;, &#x27;D_56&#x27;, &#x27;D_58&#x27;, &#x27;D_59&#x27;, &#x27;D_60&#x27;, &#x27;D_61&#x27;, &#x27;D_62&#x27;, &#x27;D_65&#x27;, &#x27;D_68&#x27;, &#x27;D_69&#x27;, &#x27;D_70&#x27;, &#x27;D_71&#x27;, &#x27;D_72&#x27;, &#x27;D_74&#x27;, &#x27;D_75&#x27;, &#x27;D_77&#x27;, &#x27;D_78&#x27;, &#x27;D_79&#x27;, &#x27;D_80&#x27;, &#x27;D_81&#x27;, &#x27;D_83&#x27;, &#x27;D_84&#x27;, &#x27;D_86&#x27;, &#x27;D_89&#x27;, &#x27;D_91&#x27;, &#x27;D_92&#x27;, &#x27;D_93&#x27;, &#x27;D_94&#x27;, &#x27;D_96&#x27;, &#x27;Month&#x27;, &#x27;P_3&#x27;, &#x27;P_4&#x27;, &#x27;R_1&#x27;, &#x27;R_10&#x27;, &#x27;R_11&#x27;, &#x27;R_12&#x27;, &#x27;R_13&#x27;, &#x27;R_14&#x27;, &#x27;R_15&#x27;, &#x27;R_16&#x27;, &#x27;R_17&#x27;, &#x27;R_18&#x27;, &#x27;R_19&#x27;, &#x27;R_2&#x27;, &#x27;R_20&#x27;, &#x27;R_21&#x27;, &#x27;R_22&#x27;, &#x27;R_23&#x27;, &#x27;R_24&#x27;, &#x27;R_25&#x27;, &#x27;R_27&#x27;, &#x27;R_28&#x27;, &#x27;R_3&#x27;, &#x27;R_4&#x27;, &#x27;R_5&#x27;, &#x27;R_6&#x27;, &#x27;R_7&#x27;, &#x27;R_8&#x27;, &#x27;S_11&#x27;, &#x27;S_12&#x27;, &#x27;S_13&#x27;, &#x27;S_15&#x27;, &#x27;S_16&#x27;, &#x27;S_17&#x27;, &#x27;S_18&#x27;, &#x27;S_19&#x27;, &#x27;S_20&#x27;, &#x27;S_22&#x27;, &#x27;S_23&#x27;, &#x27;S_24&#x27;, &#x27;S_25&#x27;, &#x27;S_26&#x27;, &#x27;S_27&#x27;, &#x27;S_3&#x27;, &#x27;S_5&#x27;, &#x27;S_6&#x27;, &#x27;S_7&#x27;, &#x27;S_8&#x27;, &#x27;S_9&#x27;, &#x27;Year&#x27;]</pre></div></div></div><div class=\"sk-serial\"><div class=\"sk-item\"><div class=\"sk-serial\"><div class=\"sk-item\"><div class=\"sk-estimator sk-toggleable\"><input class=\"sk-toggleable__control sk-hidden--visually\" id=\"sk-estimator-id-16\" type=\"checkbox\" ><label for=\"sk-estimator-id-16\" class=\"sk-toggleable__label sk-toggleable__label-arrow\">KNNImputer</label><div class=\"sk-toggleable__content\"><pre>KNNImputer()</pre></div></div></div><div class=\"sk-item\"><div class=\"sk-estimator sk-toggleable\"><input class=\"sk-toggleable__control sk-hidden--visually\" id=\"sk-estimator-id-17\" type=\"checkbox\" ><label for=\"sk-estimator-id-17\" class=\"sk-toggleable__label sk-toggleable__label-arrow\">StandardScaler</label><div class=\"sk-toggleable__content\"><pre>StandardScaler()</pre></div></div></div></div></div></div></div></div></div></div><div class=\"sk-item\"><div class=\"sk-estimator sk-toggleable\"><input class=\"sk-toggleable__control sk-hidden--visually\" id=\"sk-estimator-id-18\" type=\"checkbox\" ><label for=\"sk-estimator-id-18\" class=\"sk-toggleable__label sk-toggleable__label-arrow\">SelectKBest</label><div class=\"sk-toggleable__content\"><pre>SelectKBest(k=&#x27;all&#x27;)</pre></div></div></div></div></div></div></div>"
      ],
      "text/plain": [
       "Pipeline(steps=[('preprocess',\n",
       "                 ColumnTransformer(transformers=[('cat',\n",
       "                                                  Pipeline(steps=[('imputer',\n",
       "                                                                   SimpleImputer(strategy='most_frequent')),\n",
       "                                                                  ('encoder',\n",
       "                                                                   OrdinalEncoder(handle_unknown='use_encoded_value',\n",
       "                                                                                  unknown_value=-1)),\n",
       "                                                                  ('scaler',\n",
       "                                                                   StandardScaler())]),\n",
       "                                                  ['D_63', 'D_64']),\n",
       "                                                 ('num',\n",
       "                                                  Pipeline(steps=[('imputer',\n",
       "                                                                   KNNImputer()),\n",
       "                                                                  ('scaler',\n",
       "                                                                   StandardScaler())]),\n",
       "                                                  ['B_11', 'B_12', 'B_13',\n",
       "                                                   'B_14', 'B_15', 'B_16',\n",
       "                                                   'B_17', 'B_18', 'B_19',\n",
       "                                                   'B_2', 'B_20', 'B_21',\n",
       "                                                   'B_22', 'B_23', 'B_24',\n",
       "                                                   'B_25', 'B_26', 'B_27',\n",
       "                                                   'B_28', 'B_3', 'B_30',\n",
       "                                                   'B_31', 'B_32', 'B_33',\n",
       "                                                   'B_36', 'B_37', 'B_38',\n",
       "                                                   'B_4', 'B_40', 'B_41', ...])])),\n",
       "                ('skb', SelectKBest(k='all'))])"
      ]
     },
     "execution_count": 55,
     "metadata": {},
     "output_type": "execute_result"
    }
   ],
   "source": [
    "final_pre_pipe"
   ]
  },
  {
   "cell_type": "code",
   "execution_count": 47,
   "metadata": {},
   "outputs": [],
   "source": [
    "pd.DataFrame(X_train).to_csv(\"process_X_train.csv\")\n",
    "pd.DataFrame(y_train).to_csv(\"process_y_train.csv\")\n",
    "pd.DataFrame(X_test).to_csv(\"process_X_test.csv\")\n",
    "pd.DataFrame(y_test).to_csv(\"process_y_test.csv\")\n",
    "pd.DataFrame(X_great).to_csv(\"process_X_great.csv\")\n",
    "pd.DataFrame(y_great).to_csv(\"process_y_great.csv\")"
   ]
  },
  {
   "cell_type": "code",
   "execution_count": 46,
   "metadata": {},
   "outputs": [
    {
     "data": {
      "image/png": "[encoded data removed]",
      "text/plain": [
       "<Figure size 640x480 with 1 Axes>"
      ]
     },
     "metadata": {},
     "output_type": "display_data"
    }
   ],
   "source": [
    "# and this is the distribuition of the new columns from X_train\n",
    "skb=SelectKBest(k=\"all\")\n",
    "skb.fit(X_test,y_test.values.reshape(1,-1)[0])\n",
    "imp_feat=pd.DataFrame(skb.scores_).sort_values(0,ascending=False)\n",
    "graph=sns.barplot(x=imp_feat.index,y=imp_feat[0], order=imp_feat.index)\n",
    "graph.set(xticklabels=[]);"
   ]
  },
  {
   "cell_type": "code",
   "execution_count": 45,
   "metadata": {},
   "outputs": [
    {
     "data": {
      "image/png": "[encoded data removed]",
      "text/plain": [
       "<Figure size 640x480 with 1 Axes>"
      ]
     },
     "metadata": {},
     "output_type": "display_data"
    }
   ],
   "source": [
    "#X_test\n",
    "skb=SelectKBest(k=\"all\")\n",
    "skb.fit(X_train,y_train.values.reshape(1,-1)[0])\n",
    "imp_feat=pd.DataFrame(skb.scores_).sort_values(0,ascending=False)\n",
    "graph=sns.barplot(x=imp_feat.index,y=imp_feat[0], order=imp_feat.index)\n",
    "graph.set(xticklabels=[]);"
   ]
  },
  {
   "cell_type": "code",
   "execution_count": 44,
   "metadata": {},
   "outputs": [
    {
     "data": {
      "image/png": "[encoded data removed]",
      "text/plain": [
       "<Figure size 640x480 with 1 Axes>"
      ]
     },
     "metadata": {},
     "output_type": "display_data"
    }
   ],
   "source": [
    "# and X_great just for fun\n",
    "skb=SelectKBest(k=\"all\")\n",
    "skb.fit(X_great,y_great.values.reshape(1,-1)[0])\n",
    "imp_feat=pd.DataFrame(skb.scores_).sort_values(0,ascending=False)\n",
    "graph=sns.barplot(x=imp_feat.index,y=imp_feat[0], order=imp_feat.index)\n",
    "graph.set(xticklabels=[]);"
   ]
  },
  {
   "cell_type": "code",
   "execution_count": null,
   "metadata": {},
   "outputs": [],
   "source": []
  }
 ],
 "metadata": {
  "kernelspec": {
   "display_name": "Python 3.9.0 64-bit",
   "language": "python",
   "name": "python3"
  },
  "language_info": {
   "codemirror_mode": {
    "name": "ipython",
    "version": 3
   },
   "file_extension": ".py",
   "mimetype": "text/x-python",
   "name": "python",
   "nbconvert_exporter": "python",
   "pygments_lexer": "ipython3",
   "version": "3.9.0"
  },
  "orig_nbformat": 4,
  "vscode": {
   "interpreter": {
    "hash": "66a65024a80dbc669128121e6b28ee47b9bf545b3d53ac8fdf8b853b16492407"
   }
  }
 },
 "nbformat": 4,
 "nbformat_minor": 2
}
